{
 "cells": [
  {
   "cell_type": "markdown",
   "id": "6d0c9691",
   "metadata": {},
   "source": [
    "# Data Science Tools and Ecosystem"
   ]
  },
  {
   "cell_type": "markdown",
   "id": "2dca8f19",
   "metadata": {},
   "source": [
    "In this notebook, Data Science Tools and Ecosystem are summarized."
   ]
  },
  {
   "cell_type": "markdown",
   "id": "46b3e113",
   "metadata": {},
   "source": [
    "**Objectives:**"
   ]
  },
  {
   "cell_type": "markdown",
   "id": "0792ce9a",
   "metadata": {},
   "source": [
    "- In this course, we covered open source tools such as Jupter notebook and R and explored how to use them"
   ]
  },
  {
   "cell_type": "markdown",
   "id": "492892e7",
   "metadata": {},
   "source": [
    "- We also covered about git and github and how it is helpful in software developement."
   ]
  },
  {
   "cell_type": "markdown",
   "id": "0f455fe2",
   "metadata": {},
   "source": [
    "- Popular languages for data science are "
   ]
  },
  {
   "cell_type": "markdown",
   "id": "8e2cde0c",
   "metadata": {},
   "source": [
    "- R"
   ]
  },
  {
   "cell_type": "markdown",
   "id": "7b8fda4f",
   "metadata": {},
   "source": [
    "- Python"
   ]
  },
  {
   "cell_type": "markdown",
   "id": "c4b5556b",
   "metadata": {},
   "source": [
    "- SQL"
   ]
  },
  {
   "cell_type": "markdown",
   "id": "3cfcf394",
   "metadata": {},
   "source": [
    "Some of the popular languages that Data Scientists use are:"
   ]
  },
  {
   "cell_type": "markdown",
   "id": "9eb77905",
   "metadata": {},
   "source": [
    "1.Python"
   ]
  },
  {
   "cell_type": "markdown",
   "id": "c72fd251",
   "metadata": {},
   "source": [
    "2.R"
   ]
  },
  {
   "cell_type": "markdown",
   "id": "1e303965",
   "metadata": {},
   "source": [
    "3.SQL"
   ]
  },
  {
   "cell_type": "markdown",
   "id": "c9a1c6ec",
   "metadata": {},
   "source": [
    "4.Julia"
   ]
  },
  {
   "cell_type": "markdown",
   "id": "1bc77a5c",
   "metadata": {},
   "source": [
    "Some of the commonly used libraries used by Data Scientists include:"
   ]
  },
  {
   "cell_type": "markdown",
   "id": "87fec76d",
   "metadata": {},
   "source": [
    "1. Numpy (Python library)"
   ]
  },
  {
   "cell_type": "markdown",
   "id": "2bd1fd1e",
   "metadata": {},
   "source": [
    "2. Panda (Python library)"
   ]
  },
  {
   "cell_type": "markdown",
   "id": "8acadf29",
   "metadata": {},
   "source": [
    "3. ggplot2 (R library)"
   ]
  },
  {
   "cell_type": "markdown",
   "id": "d601fac1",
   "metadata": {},
   "source": [
    "4.Apache Hadoop"
   ]
  },
  {
   "cell_type": "markdown",
   "id": "a63b491b",
   "metadata": {},
   "source": [
    "|Data Science tools|\n",
    "-----------------------\n",
    "|Jupyter Notebook|\n",
    "|R|\n",
    "|scikit-learn|"
   ]
  },
  {
   "cell_type": "markdown",
   "id": "1c11b46c",
   "metadata": {},
   "source": [
    "Below are a few examples of evaluating arithmetic expressions in Python"
   ]
  },
  {
   "cell_type": "markdown",
   "id": "057f4cf1",
   "metadata": {},
   "source": [
    "This a simple arithmetic expression to mutiply then add integers"
   ]
  },
  {
   "cell_type": "code",
   "execution_count": 1,
   "id": "40d79b80",
   "metadata": {
    "scrolled": true
   },
   "outputs": [
    {
     "data": {
      "text/plain": [
       "17"
      ]
     },
     "execution_count": 1,
     "metadata": {},
     "output_type": "execute_result"
    }
   ],
   "source": [
    " (3*4)+5"
   ]
  },
  {
   "cell_type": "markdown",
   "id": "a52b7943",
   "metadata": {},
   "source": [
    "This will convert 200 minutes to hours by diving by 60"
   ]
  },
  {
   "cell_type": "code",
   "execution_count": 8,
   "id": "cbb18ebb",
   "metadata": {},
   "outputs": [],
   "source": [
    "a=200"
   ]
  },
  {
   "cell_type": "code",
   "execution_count": 9,
   "id": "c005257f",
   "metadata": {},
   "outputs": [],
   "source": [
    "b=a/60"
   ]
  },
  {
   "cell_type": "code",
   "execution_count": 14,
   "id": "2b2721fa",
   "metadata": {},
   "outputs": [
    {
     "name": "stdout",
     "output_type": "stream",
     "text": [
      "200 minutes is equal to 3.3333333333333335 hours.\n"
     ]
    }
   ],
   "source": [
    "print(f\"{a} minutes is equal to {b} hours.\")"
   ]
  },
  {
   "cell_type": "markdown",
   "id": "957b232f",
   "metadata": {},
   "source": [
    "## Author"
   ]
  },
  {
   "cell_type": "markdown",
   "id": "bd9bdeba",
   "metadata": {},
   "source": [
    "Niranjan Vaidya"
   ]
  },
  {
   "cell_type": "code",
   "execution_count": null,
   "id": "19d5c0b3",
   "metadata": {},
   "outputs": [],
   "source": []
  }
 ],
 "metadata": {
  "kernelspec": {
   "display_name": "Python 3 (ipykernel)",
   "language": "python",
   "name": "python3"
  },
  "language_info": {
   "codemirror_mode": {
    "name": "ipython",
    "version": 3
   },
   "file_extension": ".py",
   "mimetype": "text/x-python",
   "name": "python",
   "nbconvert_exporter": "python",
   "pygments_lexer": "ipython3",
   "version": "3.11.5"
  }
 },
 "nbformat": 4,
 "nbformat_minor": 5
}
